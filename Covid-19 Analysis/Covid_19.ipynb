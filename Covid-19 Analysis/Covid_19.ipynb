{
  "nbformat": 4,
  "nbformat_minor": 0,
  "metadata": {
    "colab": {
      "name": "Modulo1 - Analise Covid-19.ipynb",
      "provenance": [],
      "collapsed_sections": []
    },
    "kernelspec": {
      "name": "python3",
      "display_name": "Python 3"
    }
  },
  "cells": [
    {
      "cell_type": "code",
      "metadata": {
        "id": "ScSHGxomiAQh"
      },
      "source": [
        "import pandas as pd\n",
        "import matplotlib.pyplot as plt\n",
        "import numpy as np\n",
        "import seaborn as sns\n",
        "import io\n",
        "from matplotlib.dates import DateFormatter"
      ],
      "execution_count": null,
      "outputs": []
    },
    {
      "cell_type": "code",
      "metadata": {
        "id": "k-tZdHtki9_E"
      },
      "source": [
        "dataset_url = 'https://raw.githubusercontent.com/owid/covid-19-data/master/public/data/vaccinations/vaccinations.csv'\n",
        "df = pd.read_csv(dataset_url)"
      ],
      "execution_count": null,
      "outputs": []
    },
    {
      "cell_type": "markdown",
      "metadata": {
        "id": "qZSUCXQwdKZT"
      },
      "source": [
        "# Nova seção"
      ]
    },
    {
      "cell_type": "markdown",
      "metadata": {
        "id": "Yc3mdU-IdK_R"
      },
      "source": [
        "# Nova seção"
      ]
    },
    {
      "cell_type": "code",
      "metadata": {
        "colab": {
          "base_uri": "https://localhost:8080/"
        },
        "id": "iEpH1Qf2jY_X",
        "outputId": "6a31a12d-ba78-41b6-b821-3ce6ff4ba577"
      },
      "source": [
        "df.columns"
      ],
      "execution_count": null,
      "outputs": [
        {
          "output_type": "execute_result",
          "data": {
            "text/plain": [
              "Index(['location', 'iso_code', 'date', 'total_vaccinations',\n",
              "       'people_vaccinated', 'people_fully_vaccinated',\n",
              "       'daily_vaccinations_raw', 'daily_vaccinations',\n",
              "       'total_vaccinations_per_hundred', 'people_vaccinated_per_hundred',\n",
              "       'people_fully_vaccinated_per_hundred',\n",
              "       'daily_vaccinations_per_million'],\n",
              "      dtype='object')"
            ]
          },
          "metadata": {
            "tags": []
          },
          "execution_count": 192
        }
      ]
    },
    {
      "cell_type": "code",
      "metadata": {
        "id": "weNnyNUjj2b7"
      },
      "source": [
        "df['date'] = pd.to_datetime(df['date']) #definindo o tipo de dado da columna date"
      ],
      "execution_count": null,
      "outputs": []
    },
    {
      "cell_type": "code",
      "metadata": {
        "colab": {
          "base_uri": "https://localhost:8080/",
          "height": 393
        },
        "id": "yFj-OOaflF2T",
        "outputId": "f5f30234-1258-4aeb-8433-ab52c3db1b08"
      },
      "source": [
        "gp_vaccinated_date = df.groupby('date', as_index=False)['people_vaccinated'].sum()\n",
        "\n",
        "fig, ax = plt.subplots(figsize=(10, 6))\n",
        "ax.xaxis.set_major_formatter(mdates.DateFormatter('%Y-%m'))\n",
        "ax.plot(gp_vaccinated_date['date'], gp_vaccinated_date['people_vaccinated'])\n",
        "plt.title(\"Pessoas vacinadas diariamente no mundo - COVID-19\")\n",
        "ax.legend([\"Pessoas vacinadas\"], loc='lower right')\n",
        "plt.show()"
      ],
      "execution_count": null,
      "outputs": [
        {
          "output_type": "display_data",
          "data": {
            "image/png": "[encoded data removed]",
            "text/plain": [
              "<Figure size 720x432 with 1 Axes>"
            ]
          },
          "metadata": {
            "tags": []
          }
        }
      ]
    },
    {
      "cell_type": "code",
      "metadata": {
        "colab": {
          "base_uri": "https://localhost:8080/",
          "height": 492
        },
        "id": "7BLr5YUyngeh",
        "outputId": "9a8830ab-d832-40d0-f521-68e13116a08e"
      },
      "source": [
        "gp_countrie = df.groupby('location', as_index=False)['people_vaccinated'].sum()\n",
        "gp_countrie.sort_values('people_vaccinated', ascending=False, axis=0, inplace=True) #ordenando por número de vacinas\n",
        "gp_countrie = gp_countrie.drop(gp_countrie.index[0], axis=0) #removendo o valor 'World'\n",
        " \n",
        "fig, ax = plt.subplots(figsize=(10, 6))\n",
        "ax.barh(gp_countrie['location'].iloc[:10], gp_countrie['people_vaccinated'].iloc[:10])\n",
        "ax.invert_yaxis()\n",
        "plt.title(\"Ranking de vacinação - COVID-19\")"
      ],
      "execution_count": null,
      "outputs": [
        {
          "output_type": "error",
          "ename": "NameError",
          "evalue": "ignored",
          "traceback": [
            "\u001b[0;31m---------------------------------------------------------------------------\u001b[0m",
            "\u001b[0;31mNameError\u001b[0m                                 Traceback (most recent call last)",
            "\u001b[0;32m<ipython-input-1-24369053c16f>\u001b[0m in \u001b[0;36m<module>\u001b[0;34m()\u001b[0m\n\u001b[0;32m----> 1\u001b[0;31m \u001b[0mgp_countrie\u001b[0m \u001b[0;34m=\u001b[0m \u001b[0mdf\u001b[0m\u001b[0;34m.\u001b[0m\u001b[0mgroupby\u001b[0m\u001b[0;34m(\u001b[0m\u001b[0;34m'location'\u001b[0m\u001b[0;34m,\u001b[0m \u001b[0mas_index\u001b[0m\u001b[0;34m=\u001b[0m\u001b[0;32mFalse\u001b[0m\u001b[0;34m)\u001b[0m\u001b[0;34m[\u001b[0m\u001b[0;34m'people_vaccinated'\u001b[0m\u001b[0;34m]\u001b[0m\u001b[0;34m.\u001b[0m\u001b[0msum\u001b[0m\u001b[0;34m(\u001b[0m\u001b[0;34m)\u001b[0m\u001b[0;34m\u001b[0m\u001b[0;34m\u001b[0m\u001b[0m\n\u001b[0m\u001b[1;32m      2\u001b[0m \u001b[0mgp_countrie\u001b[0m\u001b[0;34m.\u001b[0m\u001b[0msort_values\u001b[0m\u001b[0;34m(\u001b[0m\u001b[0;34m'people_vaccinated'\u001b[0m\u001b[0;34m,\u001b[0m \u001b[0mascending\u001b[0m\u001b[0;34m=\u001b[0m\u001b[0;32mFalse\u001b[0m\u001b[0;34m,\u001b[0m \u001b[0maxis\u001b[0m\u001b[0;34m=\u001b[0m\u001b[0;36m0\u001b[0m\u001b[0;34m,\u001b[0m \u001b[0minplace\u001b[0m\u001b[0;34m=\u001b[0m\u001b[0;32mTrue\u001b[0m\u001b[0;34m)\u001b[0m \u001b[0;31m#ordenando por número de vacinas\u001b[0m\u001b[0;34m\u001b[0m\u001b[0;34m\u001b[0m\u001b[0m\n\u001b[1;32m      3\u001b[0m \u001b[0mgp_countrie\u001b[0m \u001b[0;34m=\u001b[0m \u001b[0mgp_countrie\u001b[0m\u001b[0;34m.\u001b[0m\u001b[0mdrop\u001b[0m\u001b[0;34m(\u001b[0m\u001b[0mgp_countrie\u001b[0m\u001b[0;34m.\u001b[0m\u001b[0mindex\u001b[0m\u001b[0;34m[\u001b[0m\u001b[0;36m0\u001b[0m\u001b[0;34m]\u001b[0m\u001b[0;34m,\u001b[0m \u001b[0maxis\u001b[0m\u001b[0;34m=\u001b[0m\u001b[0;36m0\u001b[0m\u001b[0;34m)\u001b[0m \u001b[0;31m#removendo o valor 'World'\u001b[0m\u001b[0;34m\u001b[0m\u001b[0;34m\u001b[0m\u001b[0m\n\u001b[1;32m      4\u001b[0m \u001b[0;34m\u001b[0m\u001b[0m\n\u001b[1;32m      5\u001b[0m \u001b[0mfig\u001b[0m\u001b[0;34m,\u001b[0m \u001b[0max\u001b[0m \u001b[0;34m=\u001b[0m \u001b[0mplt\u001b[0m\u001b[0;34m.\u001b[0m\u001b[0msubplots\u001b[0m\u001b[0;34m(\u001b[0m\u001b[0mfigsize\u001b[0m\u001b[0;34m=\u001b[0m\u001b[0;34m(\u001b[0m\u001b[0;36m10\u001b[0m\u001b[0;34m,\u001b[0m \u001b[0;36m6\u001b[0m\u001b[0;34m)\u001b[0m\u001b[0;34m)\u001b[0m\u001b[0;34m\u001b[0m\u001b[0;34m\u001b[0m\u001b[0m\n",
            "\u001b[0;31mNameError\u001b[0m: name 'df' is not defined"
          ]
        }
      ]
    },
    {
      "cell_type": "code",
      "metadata": {
        "colab": {
          "base_uri": "https://localhost:8080/",
          "height": 299
        },
        "id": "7zy-e0Rn8kTP",
        "outputId": "daff632d-4078-4a8a-983e-1cd0da0a9655"
      },
      "source": [
        "#Segmentando os dados brasileiros\n",
        "df_brazil = df.loc[df['location'] == 'Brazil']\n",
        "df_brazil.head(5)"
      ],
      "execution_count": null,
      "outputs": [
        {
          "output_type": "execute_result",
          "data": {
            "text/html": [
              "<div>\n",
              "<style scoped>\n",
              "    .dataframe tbody tr th:only-of-type {\n",
              "        vertical-align: middle;\n",
              "    }\n",
              "\n",
              "    .dataframe tbody tr th {\n",
              "        vertical-align: top;\n",
              "    }\n",
              "\n",
              "    .dataframe thead th {\n",
              "        text-align: right;\n",
              "    }\n",
              "</style>\n",
              "<table border=\"1\" class=\"dataframe\">\n",
              "  <thead>\n",
              "    <tr style=\"text-align: right;\">\n",
              "      <th></th>\n",
              "      <th>location</th>\n",
              "      <th>iso_code</th>\n",
              "      <th>date</th>\n",
              "      <th>total_vaccinations</th>\n",
              "      <th>people_vaccinated</th>\n",
              "      <th>people_fully_vaccinated</th>\n",
              "      <th>daily_vaccinations_raw</th>\n",
              "      <th>daily_vaccinations</th>\n",
              "      <th>total_vaccinations_per_hundred</th>\n",
              "      <th>people_vaccinated_per_hundred</th>\n",
              "      <th>people_fully_vaccinated_per_hundred</th>\n",
              "      <th>daily_vaccinations_per_million</th>\n",
              "    </tr>\n",
              "  </thead>\n",
              "  <tbody>\n",
              "    <tr>\n",
              "      <th>719</th>\n",
              "      <td>Brazil</td>\n",
              "      <td>BRA</td>\n",
              "      <td>2021-01-16</td>\n",
              "      <td>0.0</td>\n",
              "      <td>0.0</td>\n",
              "      <td>NaN</td>\n",
              "      <td>NaN</td>\n",
              "      <td>NaN</td>\n",
              "      <td>0.00</td>\n",
              "      <td>0.00</td>\n",
              "      <td>NaN</td>\n",
              "      <td>NaN</td>\n",
              "    </tr>\n",
              "    <tr>\n",
              "      <th>720</th>\n",
              "      <td>Brazil</td>\n",
              "      <td>BRA</td>\n",
              "      <td>2021-01-17</td>\n",
              "      <td>112.0</td>\n",
              "      <td>112.0</td>\n",
              "      <td>NaN</td>\n",
              "      <td>112.0</td>\n",
              "      <td>112.0</td>\n",
              "      <td>0.00</td>\n",
              "      <td>0.00</td>\n",
              "      <td>NaN</td>\n",
              "      <td>1.0</td>\n",
              "    </tr>\n",
              "    <tr>\n",
              "      <th>721</th>\n",
              "      <td>Brazil</td>\n",
              "      <td>BRA</td>\n",
              "      <td>2021-01-18</td>\n",
              "      <td>1109.0</td>\n",
              "      <td>1109.0</td>\n",
              "      <td>NaN</td>\n",
              "      <td>997.0</td>\n",
              "      <td>554.0</td>\n",
              "      <td>0.00</td>\n",
              "      <td>0.00</td>\n",
              "      <td>NaN</td>\n",
              "      <td>3.0</td>\n",
              "    </tr>\n",
              "    <tr>\n",
              "      <th>722</th>\n",
              "      <td>Brazil</td>\n",
              "      <td>BRA</td>\n",
              "      <td>2021-01-19</td>\n",
              "      <td>11470.0</td>\n",
              "      <td>11470.0</td>\n",
              "      <td>NaN</td>\n",
              "      <td>10361.0</td>\n",
              "      <td>3823.0</td>\n",
              "      <td>0.01</td>\n",
              "      <td>0.01</td>\n",
              "      <td>NaN</td>\n",
              "      <td>18.0</td>\n",
              "    </tr>\n",
              "    <tr>\n",
              "      <th>723</th>\n",
              "      <td>Brazil</td>\n",
              "      <td>BRA</td>\n",
              "      <td>2021-01-20</td>\n",
              "      <td>28543.0</td>\n",
              "      <td>28543.0</td>\n",
              "      <td>NaN</td>\n",
              "      <td>17073.0</td>\n",
              "      <td>7136.0</td>\n",
              "      <td>0.01</td>\n",
              "      <td>0.01</td>\n",
              "      <td>NaN</td>\n",
              "      <td>34.0</td>\n",
              "    </tr>\n",
              "  </tbody>\n",
              "</table>\n",
              "</div>"
            ],
            "text/plain": [
              "    location  ... daily_vaccinations_per_million\n",
              "719   Brazil  ...                            NaN\n",
              "720   Brazil  ...                            1.0\n",
              "721   Brazil  ...                            3.0\n",
              "722   Brazil  ...                           18.0\n",
              "723   Brazil  ...                           34.0\n",
              "\n",
              "[5 rows x 12 columns]"
            ]
          },
          "metadata": {
            "tags": []
          },
          "execution_count": 198
        }
      ]
    },
    {
      "cell_type": "code",
      "metadata": {
        "colab": {
          "base_uri": "https://localhost:8080/",
          "height": 410
        },
        "id": "-FLbQCQzE9A3",
        "outputId": "3dd9912a-00bc-400c-a73f-23b9c9f5be17"
      },
      "source": [
        "fig, ax = plt.subplots(figsize=(10, 6))\n",
        "ax.xaxis.set_major_formatter(mdates.DateFormatter('%Y-%m'))\n",
        "ax.plot(df_brazil['date'], df_brazil['people_vaccinated'], color=\"yellow\")\n",
        "ax.plot(df_brazil['date'], df_brazil['total_vaccinations'], color=\"blue\")\n",
        "ax.legend(['Pessoas vacinadas','Total de vacinações'])\n",
        "plt.title(\"Vacinação brasileira - COVID-19\")"
      ],
      "execution_count": null,
      "outputs": [
        {
          "output_type": "execute_result",
          "data": {
            "text/plain": [
              "Text(0.5, 1.0, 'Vacinação brasileira COVID-19')"
            ]
          },
          "metadata": {
            "tags": []
          },
          "execution_count": 206
        },
        {
          "output_type": "display_data",
          "data": {
            "image/png": "[encoded data removed]",
            "text/plain": [
              "<Figure size 720x432 with 1 Axes>"
            ]
          },
          "metadata": {
            "tags": []
          }
        }
      ]
    }
  ]
}