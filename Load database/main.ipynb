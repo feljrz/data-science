{
 "metadata": {
  "language_info": {
   "codemirror_mode": {
    "name": "ipython",
    "version": 3
   },
   "file_extension": ".py",
   "mimetype": "text/x-python",
   "name": "python",
   "nbconvert_exporter": "python",
   "pygments_lexer": "ipython3",
   "version": "3.8.0-final"
  },
  "orig_nbformat": 2,
  "kernelspec": {
   "name": "python3",
   "display_name": "Python 3.8.0 64-bit ('coleta_dados')",
   "metadata": {
    "interpreter": {
     "hash": "ed96e9ceba4e064ca2062b6764de65f9f378d87ce8eb3815ed36466d834073b7"
    }
   }
  }
 },
 "nbformat": 4,
 "nbformat_minor": 2,
 "cells": [
  {
   "cell_type": "code",
   "execution_count": 22,
   "metadata": {},
   "outputs": [],
   "source": [
    "import os \n",
    "import MySQLdb\n",
    "import pandas as pd \n",
    "import sqlalchemy"
   ]
  },
  {
   "source": [
    "## Criando conexão"
   ],
   "cell_type": "markdown",
   "metadata": {}
  },
  {
   "cell_type": "code",
   "execution_count": 24,
   "metadata": {},
   "outputs": [],
   "source": [
    "#SQL Connection \n",
    "user = 'root' \n",
    "password = '32313877tv' \n",
    "host = 'localhost' \n",
    "database = 'survey'\n",
    "string_conection = f'mysql://{user}:{password}@{host}/{database}'"
   ]
  },
  {
   "cell_type": "code",
   "execution_count": 25,
   "metadata": {},
   "outputs": [],
   "source": [
    "engine = sqlalchemy.create_engine(string_conection)\n",
    "conn = engine.connect()"
   ]
  },
  {
   "source": [
    "## Lendo o database"
   ],
   "cell_type": "markdown",
   "metadata": {}
  },
  {
   "source": [
    "![image info](./sql/model.png)"
   ],
   "cell_type": "markdown",
   "metadata": {}
  },
  {
   "cell_type": "code",
   "execution_count": 11,
   "metadata": {},
   "outputs": [],
   "source": [
    "database = \"./base\"\n",
    "temp_list = []\n",
    "for arquivo in os.listdir(database):\n",
    "    file_path = os.path.join(database, arquivo)\n",
    "    temp_list.append(pd.read_csv(file_path, sep='|', encoding='latin-1'))\n",
    "\n",
    "df = pd.concat(temp_list)"
   ]
  },
  {
   "cell_type": "code",
   "execution_count": 28,
   "metadata": {},
   "outputs": [
    {
     "output_type": "execute_result",
     "data": {
      "text/plain": [
       "   cod_pessoa data_coleta     genero data_nascimento animal_estimacao  \\\n",
       "0    10142398  2020-06-17  Masculino      1998-12-01             gato   \n",
       "1    10142896  2020-06-17  Masculino      1966-03-10             gato   \n",
       "2    10143412  2020-06-17  Masculino      1988-08-30             gato   \n",
       "3    10143428  2020-06-17  Masculino      1995-01-07         cachorro   \n",
       "0    10141979  2020-07-18   Feminino      1977-03-13             gato   \n",
       "1    10142000  2020-07-18   Feminino      1980-06-28        tartaruga   \n",
       "2    10142017  2020-07-18  Masculino      1966-04-28         cachorro   \n",
       "3    10142276  2020-07-18  Masculino      1955-10-28        tartaruga   \n",
       "4    10142413  2020-07-18  Masculino      1980-08-01         cachorro   \n",
       "5    10142476  2020-07-18  Masculino      1974-11-15             gato   \n",
       "\n",
       "      clima bebida_favorita         hobbies  \n",
       "0  moderado         Cerveja  Escutar música  \n",
       "1  moderado         Cerveja     Assistir TV  \n",
       "2    quente            Água        Escrever  \n",
       "3    quente           Vinho      Ler livros  \n",
       "0    quente    refrigerante          Dormir  \n",
       "1      frio           Vinho        Escrever  \n",
       "2      frio            Água  Escutar música  \n",
       "3      frio         Cerveja        Escrever  \n",
       "4      frio         Cerveja     Assistir TV  \n",
       "5      frio         Cerveja        Escrever  "
      ],
      "text/html": "<div>\n<style scoped>\n    .dataframe tbody tr th:only-of-type {\n        vertical-align: middle;\n    }\n\n    .dataframe tbody tr th {\n        vertical-align: top;\n    }\n\n    .dataframe thead th {\n        text-align: right;\n    }\n</style>\n<table border=\"1\" class=\"dataframe\">\n  <thead>\n    <tr style=\"text-align: right;\">\n      <th></th>\n      <th>cod_pessoa</th>\n      <th>data_coleta</th>\n      <th>genero</th>\n      <th>data_nascimento</th>\n      <th>animal_estimacao</th>\n      <th>clima</th>\n      <th>bebida_favorita</th>\n      <th>hobbies</th>\n    </tr>\n  </thead>\n  <tbody>\n    <tr>\n      <th>0</th>\n      <td>10142398</td>\n      <td>2020-06-17</td>\n      <td>Masculino</td>\n      <td>1998-12-01</td>\n      <td>gato</td>\n      <td>moderado</td>\n      <td>Cerveja</td>\n      <td>Escutar música</td>\n    </tr>\n    <tr>\n      <th>1</th>\n      <td>10142896</td>\n      <td>2020-06-17</td>\n      <td>Masculino</td>\n      <td>1966-03-10</td>\n      <td>gato</td>\n      <td>moderado</td>\n      <td>Cerveja</td>\n      <td>Assistir TV</td>\n    </tr>\n    <tr>\n      <th>2</th>\n      <td>10143412</td>\n      <td>2020-06-17</td>\n      <td>Masculino</td>\n      <td>1988-08-30</td>\n      <td>gato</td>\n      <td>quente</td>\n      <td>Água</td>\n      <td>Escrever</td>\n    </tr>\n    <tr>\n      <th>3</th>\n      <td>10143428</td>\n      <td>2020-06-17</td>\n      <td>Masculino</td>\n      <td>1995-01-07</td>\n      <td>cachorro</td>\n      <td>quente</td>\n      <td>Vinho</td>\n      <td>Ler livros</td>\n    </tr>\n    <tr>\n      <th>0</th>\n      <td>10141979</td>\n      <td>2020-07-18</td>\n      <td>Feminino</td>\n      <td>1977-03-13</td>\n      <td>gato</td>\n      <td>quente</td>\n      <td>refrigerante</td>\n      <td>Dormir</td>\n    </tr>\n    <tr>\n      <th>1</th>\n      <td>10142000</td>\n      <td>2020-07-18</td>\n      <td>Feminino</td>\n      <td>1980-06-28</td>\n      <td>tartaruga</td>\n      <td>frio</td>\n      <td>Vinho</td>\n      <td>Escrever</td>\n    </tr>\n    <tr>\n      <th>2</th>\n      <td>10142017</td>\n      <td>2020-07-18</td>\n      <td>Masculino</td>\n      <td>1966-04-28</td>\n      <td>cachorro</td>\n      <td>frio</td>\n      <td>Água</td>\n      <td>Escutar música</td>\n    </tr>\n    <tr>\n      <th>3</th>\n      <td>10142276</td>\n      <td>2020-07-18</td>\n      <td>Masculino</td>\n      <td>1955-10-28</td>\n      <td>tartaruga</td>\n      <td>frio</td>\n      <td>Cerveja</td>\n      <td>Escrever</td>\n    </tr>\n    <tr>\n      <th>4</th>\n      <td>10142413</td>\n      <td>2020-07-18</td>\n      <td>Masculino</td>\n      <td>1980-08-01</td>\n      <td>cachorro</td>\n      <td>frio</td>\n      <td>Cerveja</td>\n      <td>Assistir TV</td>\n    </tr>\n    <tr>\n      <th>5</th>\n      <td>10142476</td>\n      <td>2020-07-18</td>\n      <td>Masculino</td>\n      <td>1974-11-15</td>\n      <td>gato</td>\n      <td>frio</td>\n      <td>Cerveja</td>\n      <td>Escrever</td>\n    </tr>\n  </tbody>\n</table>\n</div>"
     },
     "metadata": {},
     "execution_count": 28
    }
   ],
   "source": [
    "df.head(10)"
   ]
  },
  {
   "source": [
    "## Unificando atributos"
   ],
   "cell_type": "markdown",
   "metadata": {}
  },
  {
   "cell_type": "code",
   "execution_count": 35,
   "metadata": {},
   "outputs": [
    {
     "output_type": "execute_result",
     "data": {
      "text/plain": [
       "    cod_pessoa data_nascimento     genero\n",
       "0     10142398      1998-12-01  Masculino\n",
       "1     10142896      1966-03-10  Masculino\n",
       "2     10143412      1988-08-30  Masculino\n",
       "3     10143428      1995-01-07  Masculino\n",
       "0     10141979      1977-03-13   Feminino\n",
       "..         ...             ...        ...\n",
       "1     10142449      1969-12-09  Masculino\n",
       "2     10142735      1978-11-15  Masculino\n",
       "3     10143016      1988-12-20  Masculino\n",
       "4     10143094      1980-05-22  Masculino\n",
       "5     10143232      1960-01-13  Masculino\n",
       "\n",
       "[2127 rows x 3 columns]"
      ],
      "text/html": "<div>\n<style scoped>\n    .dataframe tbody tr th:only-of-type {\n        vertical-align: middle;\n    }\n\n    .dataframe tbody tr th {\n        vertical-align: top;\n    }\n\n    .dataframe thead th {\n        text-align: right;\n    }\n</style>\n<table border=\"1\" class=\"dataframe\">\n  <thead>\n    <tr style=\"text-align: right;\">\n      <th></th>\n      <th>cod_pessoa</th>\n      <th>data_nascimento</th>\n      <th>genero</th>\n    </tr>\n  </thead>\n  <tbody>\n    <tr>\n      <th>0</th>\n      <td>10142398</td>\n      <td>1998-12-01</td>\n      <td>Masculino</td>\n    </tr>\n    <tr>\n      <th>1</th>\n      <td>10142896</td>\n      <td>1966-03-10</td>\n      <td>Masculino</td>\n    </tr>\n    <tr>\n      <th>2</th>\n      <td>10143412</td>\n      <td>1988-08-30</td>\n      <td>Masculino</td>\n    </tr>\n    <tr>\n      <th>3</th>\n      <td>10143428</td>\n      <td>1995-01-07</td>\n      <td>Masculino</td>\n    </tr>\n    <tr>\n      <th>0</th>\n      <td>10141979</td>\n      <td>1977-03-13</td>\n      <td>Feminino</td>\n    </tr>\n    <tr>\n      <th>...</th>\n      <td>...</td>\n      <td>...</td>\n      <td>...</td>\n    </tr>\n    <tr>\n      <th>1</th>\n      <td>10142449</td>\n      <td>1969-12-09</td>\n      <td>Masculino</td>\n    </tr>\n    <tr>\n      <th>2</th>\n      <td>10142735</td>\n      <td>1978-11-15</td>\n      <td>Masculino</td>\n    </tr>\n    <tr>\n      <th>3</th>\n      <td>10143016</td>\n      <td>1988-12-20</td>\n      <td>Masculino</td>\n    </tr>\n    <tr>\n      <th>4</th>\n      <td>10143094</td>\n      <td>1980-05-22</td>\n      <td>Masculino</td>\n    </tr>\n    <tr>\n      <th>5</th>\n      <td>10143232</td>\n      <td>1960-01-13</td>\n      <td>Masculino</td>\n    </tr>\n  </tbody>\n</table>\n<p>2127 rows × 3 columns</p>\n</div>"
     },
     "metadata": {},
     "execution_count": 35
    }
   ],
   "source": [
    "df_pessoa = df[['cod_pessoa', 'data_nascimento', 'genero']].drop_duplicates()\n",
    "df_pessoa"
   ]
  },
  {
   "cell_type": "code",
   "execution_count": 55,
   "metadata": {},
   "outputs": [],
   "source": [
    "climas = df['clima'].unique()\n",
    "animal_estimacao = df['animal_estimacao'].unique()\n",
    "hobbies = df['hobbies'].unique()\n",
    "bebida_favorita = df['bebida_favorita'].unique()"
   ]
  },
  {
   "source": [
    "## Inserindo"
   ],
   "cell_type": "markdown",
   "metadata": {}
  },
  {
   "cell_type": "code",
   "execution_count": 42,
   "metadata": {
    "tags": []
   },
   "outputs": [],
   "source": [
    "for row in df_pessoa.itertuples():\n",
    "    try:\n",
    "        #print(row)'\n",
    "        insert_query = f\"\"\"insert into survey.pessoa(cod_pessoa, genero, data_nascimento) values ('{row.cod_pessoa}', '{row.genero}', '{row.data_nascimento}')\"\"\"\n",
    "        conn.execute(insert_query)\n",
    "    except Exception as e:\n",
    "        print(f\"A error occurs at insertion on table pessoa {e}\")"
   ]
  },
  {
   "cell_type": "code",
   "execution_count": 57,
   "metadata": {},
   "outputs": [
    {
     "output_type": "stream",
     "name": "stdout",
     "text": [
      "moderado foi inserido\n",
      "quente foi inserido\n",
      "frio foi inserido\n"
     ]
    }
   ],
   "source": [
    "for clima in climas:\n",
    "    try:\n",
    "        insert_sql = f\"\"\"insert into clima(clima) values ('{clima}')\"\"\"\n",
    "        conn.execute(insert_sql)\n",
    "        print(f'{clima} foi inserido')\n",
    "    except Exception as e:\n",
    "        print(f\"A error occurs at insertion on table clima {e}\")"
   ]
  },
  {
   "cell_type": "code",
   "execution_count": 51,
   "metadata": {},
   "outputs": [],
   "source": [
    "for pet in animal_estimacao:\n",
    "    try:\n",
    "        insert_sql = f\"\"\"insert into animal_estimacao(animal) values ('{pet}')\"\"\"\n",
    "        conn.execute(insert_sql)\n",
    "        print(f'{pet} foi inserido')\n",
    "    except Exception as e:\n",
    "        print(f\"A error occurs at insertion on table clima {e}\")"
   ]
  },
  {
   "cell_type": "code",
   "execution_count": 54,
   "metadata": {},
   "outputs": [],
   "source": [
    "for bebida in bebida_favorita:\n",
    "    try:\n",
    "        insert_sql = f\"\"\"insert into bebida(bebida) values ('{bebida}')\"\"\"\n",
    "        conn.execute(insert_sql)\n",
    "        print(f'{bebida} foi inserido')\n",
    "    except Exception as e:\n",
    "        print(f\"A error occurs at insertion on table clima {e}\")"
   ]
  },
  {
   "cell_type": "code",
   "execution_count": 56,
   "metadata": {},
   "outputs": [],
   "source": [
    "for hobbie in hobbies:\n",
    "    try:\n",
    "        insert_sql = f\"\"\"insert into hobbie(hobbie) values ('{hobbie}')\"\"\"\n",
    "        conn.execute(insert_sql)\n",
    "        print(f'{hobbie} foi inserido')\n",
    "    except Exception as e:\n",
    "        print(f\"A error occurs at insertion on table clima {e}\")"
   ]
  },
  {
   "source": [
    "## Criando tabela auxiliar para inserção de pesquisas"
   ],
   "cell_type": "markdown",
   "metadata": {}
  },
  {
   "source": [
    "#Expota-se os dados crus para que posteriormente o relacionamento seja feito\n",
    "df.to_sql('sgt_pesquisa', con=conn, schema='survey')"
   ],
   "cell_type": "code",
   "metadata": {},
   "execution_count": 59,
   "outputs": []
  },
  {
   "cell_type": "code",
   "execution_count": null,
   "metadata": {},
   "outputs": [],
   "source": [
    "query = \"\"\"INSERT INTO pesquisa(data_pesquisa, cod_pessoa, cod_animal_estimacao, \n",
    "\t\t\t\t\tcod_bebida, cod_clima, cod_hobbie)\n",
    "\t\t\t(\n",
    "\t\t\t\tSELECT sgt.data_coleta as data_pesquisa, \n",
    "\t\t                sgt.cod_pessoa, \n",
    "\t\t                aes.cod_animal_estimacao,\n",
    "\t\t                beb.cod_bebida,\n",
    "                        cli.cod_clima, \n",
    "                        hob.cod_hobbie \n",
    "                FROM sgt_pesquisa as sgt\n",
    "                JOIN animal_estimacao as aes\n",
    "                ON sgt.animal_estimacao = aes.animal \n",
    "                JOIN bebida as beb\n",
    "                ON sgt.bebida_favorita = beb.bebida\n",
    "                JOIN clima as cli\n",
    "                ON sgt.clima = cli.clima\n",
    "                JOIN hobbie as hob\n",
    "                ON sgt.hobbies = hob.hobbie\n",
    "            ); \"\"\"\n",
    "con.execute(query)"
   ]
  }
 ]
}